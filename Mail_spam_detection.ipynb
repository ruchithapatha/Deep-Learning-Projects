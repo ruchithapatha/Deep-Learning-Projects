{
  "cells": [
    {
      "cell_type": "markdown",
      "metadata": {
        "id": "view-in-github",
        "colab_type": "text"
      },
      "source": [
        "<a href=\"https://colab.research.google.com/github/ruchithapatha/Deep-Learning-Projects/blob/main/Mail_spam_detection.ipynb\" target=\"_parent\"><img src=\"https://colab.research.google.com/assets/colab-badge.svg\" alt=\"Open In Colab\"/></a>"
      ]
    },
    {
      "cell_type": "code",
      "execution_count": null,
      "metadata": {
        "colab": {
          "base_uri": "https://localhost:8080/"
        },
        "id": "8d5e3YN4ku__",
        "outputId": "3c287a8e-44bf-49fb-dbc2-79407a1b2bcd"
      },
      "outputs": [
        {
          "output_type": "stream",
          "name": "stdout",
          "text": [
            "Requirement already satisfied: nltk in /usr/local/lib/python3.7/dist-packages (3.2.5)\n",
            "Requirement already satisfied: six in /usr/local/lib/python3.7/dist-packages (from nltk) (1.15.0)\n"
          ]
        }
      ],
      "source": [
        "pip install nltk"
      ]
    },
    {
      "cell_type": "code",
      "execution_count": null,
      "metadata": {
        "id": "Ot7MTbZ0k6Qv"
      },
      "outputs": [],
      "source": [
        "import nltk\n",
        "import pandas as pd\n",
        "import numpy as np"
      ]
    },
    {
      "cell_type": "code",
      "execution_count": null,
      "metadata": {
        "id": "71izKhLtltf7",
        "colab": {
          "base_uri": "https://localhost:8080/"
        },
        "outputId": "5e9b8545-fc88-408e-cc81-75b7c69790a7"
      },
      "outputs": [
        {
          "output_type": "stream",
          "name": "stdout",
          "text": [
            "[nltk_data] Downloading package wordnet to /root/nltk_data...\n",
            "[nltk_data]   Unzipping corpora/wordnet.zip.\n"
          ]
        },
        {
          "output_type": "execute_result",
          "data": {
            "text/plain": [
              "True"
            ]
          },
          "metadata": {},
          "execution_count": 3
        }
      ],
      "source": [
        "nltk.download('wordnet')"
      ]
    },
    {
      "cell_type": "markdown",
      "metadata": {
        "id": "s5STPS3aAXlu"
      },
      "source": []
    },
    {
      "cell_type": "code",
      "execution_count": null,
      "metadata": {
        "id": "xYOepnuqmS2m"
      },
      "outputs": [],
      "source": [
        "dt=pd.read_csv(\"SpamDetectionData.csv\",encoding='windows-1252')"
      ]
    },
    {
      "cell_type": "code",
      "execution_count": null,
      "metadata": {
        "colab": {
          "base_uri": "https://localhost:8080/",
          "height": 269
        },
        "id": "E6VXPBBrmqFK",
        "outputId": "36d07dd2-7f33-45c2-dbea-b9a3cd6711aa"
      },
      "outputs": [
        {
          "output_type": "execute_result",
          "data": {
            "text/html": [
              "\n",
              "  <div id=\"df-82d63350-c412-4e05-8141-34dc83931a9d\">\n",
              "    <div class=\"colab-df-container\">\n",
              "      <div>\n",
              "<style scoped>\n",
              "    .dataframe tbody tr th:only-of-type {\n",
              "        vertical-align: middle;\n",
              "    }\n",
              "\n",
              "    .dataframe tbody tr th {\n",
              "        vertical-align: top;\n",
              "    }\n",
              "\n",
              "    .dataframe thead th {\n",
              "        text-align: right;\n",
              "    }\n",
              "</style>\n",
              "<table border=\"1\" class=\"dataframe\">\n",
              "  <thead>\n",
              "    <tr style=\"text-align: right;\">\n",
              "      <th></th>\n",
              "      <th>type</th>\n",
              "      <th>text</th>\n",
              "    </tr>\n",
              "  </thead>\n",
              "  <tbody>\n",
              "    <tr>\n",
              "      <th>0</th>\n",
              "      <td>Spam</td>\n",
              "      <td>&lt;p&gt;But could then once pomp to nor that glee g...</td>\n",
              "    </tr>\n",
              "    <tr>\n",
              "      <th>1</th>\n",
              "      <td>Spam</td>\n",
              "      <td>&lt;p&gt;His honeyed and land vile are so and native...</td>\n",
              "    </tr>\n",
              "    <tr>\n",
              "      <th>2</th>\n",
              "      <td>Spam</td>\n",
              "      <td>&lt;p&gt;Tear womans his was by had tis her eremites...</td>\n",
              "    </tr>\n",
              "    <tr>\n",
              "      <th>3</th>\n",
              "      <td>Spam</td>\n",
              "      <td>&lt;p&gt;The that and land. Cell shun blazon passion...</td>\n",
              "    </tr>\n",
              "    <tr>\n",
              "      <th>4</th>\n",
              "      <td>Spam</td>\n",
              "      <td>&lt;p&gt;Sing aught through partings things was sacr...</td>\n",
              "    </tr>\n",
              "    <tr>\n",
              "      <th>5</th>\n",
              "      <td>Spam</td>\n",
              "      <td>&lt;p&gt;He den blazon would did prose to he deigned...</td>\n",
              "    </tr>\n",
              "    <tr>\n",
              "      <th>6</th>\n",
              "      <td>Spam</td>\n",
              "      <td>&lt;p&gt;In land monastic had sadness will. Found no...</td>\n",
              "    </tr>\n",
              "  </tbody>\n",
              "</table>\n",
              "</div>\n",
              "      <button class=\"colab-df-convert\" onclick=\"convertToInteractive('df-82d63350-c412-4e05-8141-34dc83931a9d')\"\n",
              "              title=\"Convert this dataframe to an interactive table.\"\n",
              "              style=\"display:none;\">\n",
              "        \n",
              "  <svg xmlns=\"http://www.w3.org/2000/svg\" height=\"24px\"viewBox=\"0 0 24 24\"\n",
              "       width=\"24px\">\n",
              "    <path d=\"M0 0h24v24H0V0z\" fill=\"none\"/>\n",
              "    <path d=\"M18.56 5.44l.94 2.06.94-2.06 2.06-.94-2.06-.94-.94-2.06-.94 2.06-2.06.94zm-11 1L8.5 8.5l.94-2.06 2.06-.94-2.06-.94L8.5 2.5l-.94 2.06-2.06.94zm10 10l.94 2.06.94-2.06 2.06-.94-2.06-.94-.94-2.06-.94 2.06-2.06.94z\"/><path d=\"M17.41 7.96l-1.37-1.37c-.4-.4-.92-.59-1.43-.59-.52 0-1.04.2-1.43.59L10.3 9.45l-7.72 7.72c-.78.78-.78 2.05 0 2.83L4 21.41c.39.39.9.59 1.41.59.51 0 1.02-.2 1.41-.59l7.78-7.78 2.81-2.81c.8-.78.8-2.07 0-2.86zM5.41 20L4 18.59l7.72-7.72 1.47 1.35L5.41 20z\"/>\n",
              "  </svg>\n",
              "      </button>\n",
              "      \n",
              "  <style>\n",
              "    .colab-df-container {\n",
              "      display:flex;\n",
              "      flex-wrap:wrap;\n",
              "      gap: 12px;\n",
              "    }\n",
              "\n",
              "    .colab-df-convert {\n",
              "      background-color: #E8F0FE;\n",
              "      border: none;\n",
              "      border-radius: 50%;\n",
              "      cursor: pointer;\n",
              "      display: none;\n",
              "      fill: #1967D2;\n",
              "      height: 32px;\n",
              "      padding: 0 0 0 0;\n",
              "      width: 32px;\n",
              "    }\n",
              "\n",
              "    .colab-df-convert:hover {\n",
              "      background-color: #E2EBFA;\n",
              "      box-shadow: 0px 1px 2px rgba(60, 64, 67, 0.3), 0px 1px 3px 1px rgba(60, 64, 67, 0.15);\n",
              "      fill: #174EA6;\n",
              "    }\n",
              "\n",
              "    [theme=dark] .colab-df-convert {\n",
              "      background-color: #3B4455;\n",
              "      fill: #D2E3FC;\n",
              "    }\n",
              "\n",
              "    [theme=dark] .colab-df-convert:hover {\n",
              "      background-color: #434B5C;\n",
              "      box-shadow: 0px 1px 3px 1px rgba(0, 0, 0, 0.15);\n",
              "      filter: drop-shadow(0px 1px 2px rgba(0, 0, 0, 0.3));\n",
              "      fill: #FFFFFF;\n",
              "    }\n",
              "  </style>\n",
              "\n",
              "      <script>\n",
              "        const buttonEl =\n",
              "          document.querySelector('#df-82d63350-c412-4e05-8141-34dc83931a9d button.colab-df-convert');\n",
              "        buttonEl.style.display =\n",
              "          google.colab.kernel.accessAllowed ? 'block' : 'none';\n",
              "\n",
              "        async function convertToInteractive(key) {\n",
              "          const element = document.querySelector('#df-82d63350-c412-4e05-8141-34dc83931a9d');\n",
              "          const dataTable =\n",
              "            await google.colab.kernel.invokeFunction('convertToInteractive',\n",
              "                                                     [key], {});\n",
              "          if (!dataTable) return;\n",
              "\n",
              "          const docLinkHtml = 'Like what you see? Visit the ' +\n",
              "            '<a target=\"_blank\" href=https://colab.research.google.com/notebooks/data_table.ipynb>data table notebook</a>'\n",
              "            + ' to learn more about interactive tables.';\n",
              "          element.innerHTML = '';\n",
              "          dataTable['output_type'] = 'display_data';\n",
              "          await google.colab.output.renderOutput(dataTable, element);\n",
              "          const docLink = document.createElement('div');\n",
              "          docLink.innerHTML = docLinkHtml;\n",
              "          element.appendChild(docLink);\n",
              "        }\n",
              "      </script>\n",
              "    </div>\n",
              "  </div>\n",
              "  "
            ],
            "text/plain": [
              "   type                                               text\n",
              "0  Spam  <p>But could then once pomp to nor that glee g...\n",
              "1  Spam  <p>His honeyed and land vile are so and native...\n",
              "2  Spam  <p>Tear womans his was by had tis her eremites...\n",
              "3  Spam  <p>The that and land. Cell shun blazon passion...\n",
              "4  Spam  <p>Sing aught through partings things was sacr...\n",
              "5  Spam  <p>He den blazon would did prose to he deigned...\n",
              "6  Spam  <p>In land monastic had sadness will. Found no..."
            ]
          },
          "metadata": {},
          "execution_count": 5
        }
      ],
      "source": [
        "dt.head(7)"
      ]
    },
    {
      "cell_type": "code",
      "execution_count": null,
      "metadata": {
        "id": "OFZ2jeCUmvnO"
      },
      "outputs": [],
      "source": [
        "dt['spam']=dt['type'].map({'Spam':1,'Ham':0}).astype(int)"
      ]
    },
    {
      "cell_type": "code",
      "execution_count": null,
      "metadata": {
        "colab": {
          "base_uri": "https://localhost:8080/",
          "height": 206
        },
        "id": "MJk2EGRKm-FF",
        "outputId": "55b21155-5080-4fc7-c541-730e5e340894"
      },
      "outputs": [
        {
          "output_type": "execute_result",
          "data": {
            "text/html": [
              "\n",
              "  <div id=\"df-58b33c29-1f49-4885-8e9a-d30a87549793\">\n",
              "    <div class=\"colab-df-container\">\n",
              "      <div>\n",
              "<style scoped>\n",
              "    .dataframe tbody tr th:only-of-type {\n",
              "        vertical-align: middle;\n",
              "    }\n",
              "\n",
              "    .dataframe tbody tr th {\n",
              "        vertical-align: top;\n",
              "    }\n",
              "\n",
              "    .dataframe thead th {\n",
              "        text-align: right;\n",
              "    }\n",
              "</style>\n",
              "<table border=\"1\" class=\"dataframe\">\n",
              "  <thead>\n",
              "    <tr style=\"text-align: right;\">\n",
              "      <th></th>\n",
              "      <th>type</th>\n",
              "      <th>text</th>\n",
              "      <th>spam</th>\n",
              "    </tr>\n",
              "  </thead>\n",
              "  <tbody>\n",
              "    <tr>\n",
              "      <th>0</th>\n",
              "      <td>Spam</td>\n",
              "      <td>&lt;p&gt;But could then once pomp to nor that glee g...</td>\n",
              "      <td>1</td>\n",
              "    </tr>\n",
              "    <tr>\n",
              "      <th>1</th>\n",
              "      <td>Spam</td>\n",
              "      <td>&lt;p&gt;His honeyed and land vile are so and native...</td>\n",
              "      <td>1</td>\n",
              "    </tr>\n",
              "    <tr>\n",
              "      <th>2</th>\n",
              "      <td>Spam</td>\n",
              "      <td>&lt;p&gt;Tear womans his was by had tis her eremites...</td>\n",
              "      <td>1</td>\n",
              "    </tr>\n",
              "    <tr>\n",
              "      <th>3</th>\n",
              "      <td>Spam</td>\n",
              "      <td>&lt;p&gt;The that and land. Cell shun blazon passion...</td>\n",
              "      <td>1</td>\n",
              "    </tr>\n",
              "    <tr>\n",
              "      <th>4</th>\n",
              "      <td>Spam</td>\n",
              "      <td>&lt;p&gt;Sing aught through partings things was sacr...</td>\n",
              "      <td>1</td>\n",
              "    </tr>\n",
              "  </tbody>\n",
              "</table>\n",
              "</div>\n",
              "      <button class=\"colab-df-convert\" onclick=\"convertToInteractive('df-58b33c29-1f49-4885-8e9a-d30a87549793')\"\n",
              "              title=\"Convert this dataframe to an interactive table.\"\n",
              "              style=\"display:none;\">\n",
              "        \n",
              "  <svg xmlns=\"http://www.w3.org/2000/svg\" height=\"24px\"viewBox=\"0 0 24 24\"\n",
              "       width=\"24px\">\n",
              "    <path d=\"M0 0h24v24H0V0z\" fill=\"none\"/>\n",
              "    <path d=\"M18.56 5.44l.94 2.06.94-2.06 2.06-.94-2.06-.94-.94-2.06-.94 2.06-2.06.94zm-11 1L8.5 8.5l.94-2.06 2.06-.94-2.06-.94L8.5 2.5l-.94 2.06-2.06.94zm10 10l.94 2.06.94-2.06 2.06-.94-2.06-.94-.94-2.06-.94 2.06-2.06.94z\"/><path d=\"M17.41 7.96l-1.37-1.37c-.4-.4-.92-.59-1.43-.59-.52 0-1.04.2-1.43.59L10.3 9.45l-7.72 7.72c-.78.78-.78 2.05 0 2.83L4 21.41c.39.39.9.59 1.41.59.51 0 1.02-.2 1.41-.59l7.78-7.78 2.81-2.81c.8-.78.8-2.07 0-2.86zM5.41 20L4 18.59l7.72-7.72 1.47 1.35L5.41 20z\"/>\n",
              "  </svg>\n",
              "      </button>\n",
              "      \n",
              "  <style>\n",
              "    .colab-df-container {\n",
              "      display:flex;\n",
              "      flex-wrap:wrap;\n",
              "      gap: 12px;\n",
              "    }\n",
              "\n",
              "    .colab-df-convert {\n",
              "      background-color: #E8F0FE;\n",
              "      border: none;\n",
              "      border-radius: 50%;\n",
              "      cursor: pointer;\n",
              "      display: none;\n",
              "      fill: #1967D2;\n",
              "      height: 32px;\n",
              "      padding: 0 0 0 0;\n",
              "      width: 32px;\n",
              "    }\n",
              "\n",
              "    .colab-df-convert:hover {\n",
              "      background-color: #E2EBFA;\n",
              "      box-shadow: 0px 1px 2px rgba(60, 64, 67, 0.3), 0px 1px 3px 1px rgba(60, 64, 67, 0.15);\n",
              "      fill: #174EA6;\n",
              "    }\n",
              "\n",
              "    [theme=dark] .colab-df-convert {\n",
              "      background-color: #3B4455;\n",
              "      fill: #D2E3FC;\n",
              "    }\n",
              "\n",
              "    [theme=dark] .colab-df-convert:hover {\n",
              "      background-color: #434B5C;\n",
              "      box-shadow: 0px 1px 3px 1px rgba(0, 0, 0, 0.15);\n",
              "      filter: drop-shadow(0px 1px 2px rgba(0, 0, 0, 0.3));\n",
              "      fill: #FFFFFF;\n",
              "    }\n",
              "  </style>\n",
              "\n",
              "      <script>\n",
              "        const buttonEl =\n",
              "          document.querySelector('#df-58b33c29-1f49-4885-8e9a-d30a87549793 button.colab-df-convert');\n",
              "        buttonEl.style.display =\n",
              "          google.colab.kernel.accessAllowed ? 'block' : 'none';\n",
              "\n",
              "        async function convertToInteractive(key) {\n",
              "          const element = document.querySelector('#df-58b33c29-1f49-4885-8e9a-d30a87549793');\n",
              "          const dataTable =\n",
              "            await google.colab.kernel.invokeFunction('convertToInteractive',\n",
              "                                                     [key], {});\n",
              "          if (!dataTable) return;\n",
              "\n",
              "          const docLinkHtml = 'Like what you see? Visit the ' +\n",
              "            '<a target=\"_blank\" href=https://colab.research.google.com/notebooks/data_table.ipynb>data table notebook</a>'\n",
              "            + ' to learn more about interactive tables.';\n",
              "          element.innerHTML = '';\n",
              "          dataTable['output_type'] = 'display_data';\n",
              "          await google.colab.output.renderOutput(dataTable, element);\n",
              "          const docLink = document.createElement('div');\n",
              "          docLink.innerHTML = docLinkHtml;\n",
              "          element.appendChild(docLink);\n",
              "        }\n",
              "      </script>\n",
              "    </div>\n",
              "  </div>\n",
              "  "
            ],
            "text/plain": [
              "   type                                               text  spam\n",
              "0  Spam  <p>But could then once pomp to nor that glee g...     1\n",
              "1  Spam  <p>His honeyed and land vile are so and native...     1\n",
              "2  Spam  <p>Tear womans his was by had tis her eremites...     1\n",
              "3  Spam  <p>The that and land. Cell shun blazon passion...     1\n",
              "4  Spam  <p>Sing aught through partings things was sacr...     1"
            ]
          },
          "metadata": {},
          "execution_count": 7
        }
      ],
      "source": [
        "dt.head()"
      ]
    },
    {
      "cell_type": "code",
      "execution_count": null,
      "metadata": {
        "colab": {
          "base_uri": "https://localhost:8080/"
        },
        "id": "XrVn_SI9nnDM",
        "outputId": "82072278-0a01-4ed2-d1f8-d086693ad770"
      },
      "outputs": [
        {
          "output_type": "execute_result",
          "data": {
            "text/plain": [
              "(2100, 3)"
            ]
          },
          "metadata": {},
          "execution_count": 8
        }
      ],
      "source": [
        "dt.shape"
      ]
    },
    {
      "cell_type": "code",
      "source": [
        "dt.dropna"
      ],
      "metadata": {
        "colab": {
          "base_uri": "https://localhost:8080/"
        },
        "id": "y0qzdzT8y0-V",
        "outputId": "b4ba7fab-7311-4718-f0ac-227936d104dd"
      },
      "execution_count": null,
      "outputs": [
        {
          "output_type": "execute_result",
          "data": {
            "text/plain": [
              "<bound method DataFrame.dropna of       type                                               text  spam\n",
              "0     Spam  <p>But could then once pomp to nor that glee g...     1\n",
              "1     Spam  <p>His honeyed and land vile are so and native...     1\n",
              "2     Spam  <p>Tear womans his was by had tis her eremites...     1\n",
              "3     Spam  <p>The that and land. Cell shun blazon passion...     1\n",
              "4     Spam  <p>Sing aught through partings things was sacr...     1\n",
              "...    ...                                                ...   ...\n",
              "2095   Ham  <p>Distant pondered me sought so there perched...     0\n",
              "2096  Spam  <p>Relief flee not and. Oh will shamed mine by...     1\n",
              "2097   Ham  <p>Gloated just the shrieked lost morrow in my...     0\n",
              "2098  Spam  <p>Aye girls had plain the deem to a. At monas...     1\n",
              "2099   Ham  <p>Above nevermore nothing no and chamber soul...     0\n",
              "\n",
              "[2100 rows x 3 columns]>"
            ]
          },
          "metadata": {},
          "execution_count": 9
        }
      ]
    },
    {
      "cell_type": "code",
      "source": [
        "dt.drop_duplicates"
      ],
      "metadata": {
        "colab": {
          "base_uri": "https://localhost:8080/"
        },
        "id": "VKYqRvyazRBY",
        "outputId": "7a8cbe80-f787-429e-be96-5718e9822d8c"
      },
      "execution_count": null,
      "outputs": [
        {
          "output_type": "execute_result",
          "data": {
            "text/plain": [
              "<bound method DataFrame.drop_duplicates of       type                                               text  spam\n",
              "0     Spam  <p>But could then once pomp to nor that glee g...     1\n",
              "1     Spam  <p>His honeyed and land vile are so and native...     1\n",
              "2     Spam  <p>Tear womans his was by had tis her eremites...     1\n",
              "3     Spam  <p>The that and land. Cell shun blazon passion...     1\n",
              "4     Spam  <p>Sing aught through partings things was sacr...     1\n",
              "...    ...                                                ...   ...\n",
              "2095   Ham  <p>Distant pondered me sought so there perched...     0\n",
              "2096  Spam  <p>Relief flee not and. Oh will shamed mine by...     1\n",
              "2097   Ham  <p>Gloated just the shrieked lost morrow in my...     0\n",
              "2098  Spam  <p>Aye girls had plain the deem to a. At monas...     1\n",
              "2099   Ham  <p>Above nevermore nothing no and chamber soul...     0\n",
              "\n",
              "[2100 rows x 3 columns]>"
            ]
          },
          "metadata": {},
          "execution_count": 10
        }
      ]
    },
    {
      "cell_type": "code",
      "execution_count": null,
      "metadata": {
        "colab": {
          "base_uri": "https://localhost:8080/"
        },
        "id": "0RXFkGg3nCuR",
        "outputId": "fdd82b96-1b41-4c10-9ea9-aabc2217351c"
      },
      "outputs": [
        {
          "output_type": "stream",
          "name": "stdout",
          "text": [
            "No.of columns: 3\n",
            "type\n",
            "text\n",
            "spam\n"
          ]
        }
      ],
      "source": [
        "c=len(dt.columns)\n",
        "print(\"No.of columns:\",c)\n",
        "for col in dt.columns:\n",
        "  print(col)"
      ]
    },
    {
      "cell_type": "code",
      "execution_count": null,
      "metadata": {
        "colab": {
          "base_uri": "https://localhost:8080/"
        },
        "id": "hSiZRFQwnNja",
        "outputId": "51180e2a-983d-495f-91d7-518d6ac9ac0b"
      },
      "outputs": [
        {
          "output_type": "stream",
          "name": "stdout",
          "text": [
            "No.of rows: 2100\n"
          ]
        }
      ],
      "source": [
        "l=len(dt['type'])\n",
        "print(\"No.of rows:\",l)"
      ]
    },
    {
      "cell_type": "code",
      "execution_count": null,
      "metadata": {
        "colab": {
          "base_uri": "https://localhost:8080/",
          "height": 244
        },
        "id": "3okCG2Hgoth9",
        "outputId": "594317fc-f09e-4526-a8fe-0a5f82092f02"
      },
      "outputs": [
        {
          "output_type": "execute_result",
          "data": {
            "application/vnd.google.colaboratory.intrinsic+json": {
              "type": "string"
            },
            "text/plain": [
              "'<p>Sing aught through partings things was sacred knew did not passion for but prose. Since will none sadness who lines feel to given but my to made seemed low none such all and. Of for delight and childe was carnal childe wight her old in passion awake might whateer. Deem awake amiss was heart had longdeserted. Eremites him low he. Cared fly in who one. Despair the weary the lowly which grief say harold sought. The deeds he said noontide and eremites most long worse yes. Harold revellers partings their. As in and. Of harold and sing of he nor. The his soul other forgot gathered a sick.</p><p>Most if blast on nor cheer to drugged to there. Or what fondly woe lineage lurked eremites at and flash felt all the calm. Consecrate this shades thou the few native nor earthly who he though knew yet few or. Name would had the relief deadly say is at. Nor the bidding uses deigned the that within pangs dear happy shamed tear had ancient them take from before. Her was yet such and had apart fame times vaunted though but. Companie the from long gathered ah olden joyless now unto earth before. Longdeserted but glare had his sighed. He now grace since or. In heart mine or had fountain his him scarce love in many noontide festal known fabled. Say were rill monks earthly birth of woe scape waste or not was at would venerable oft save that. Waste did of he passion harolds disappointed his bacchanals harold and. Saw at these adversity the a nine will if one his.</p>'"
            ]
          },
          "metadata": {},
          "execution_count": 13
        }
      ],
      "source": [
        "dt['text'][4]"
      ]
    },
    {
      "cell_type": "code",
      "execution_count": null,
      "metadata": {
        "colab": {
          "base_uri": "https://localhost:8080/"
        },
        "id": "VxfEMDpaoQkY",
        "outputId": "d325508c-93df-462c-afff-0782270e515d"
      },
      "outputs": [
        {
          "output_type": "stream",
          "name": "stdout",
          "text": [
            "['<p>Sing', 'aught', 'through', 'partings', 'things', 'was', 'sacred', 'knew', 'did', 'not', 'passion', 'for', 'but', 'prose.', 'Since', 'will', 'none', 'sadness', 'who', 'lines', 'feel', 'to', 'given', 'but', 'my', 'to', 'made', 'seemed', 'low', 'none', 'such', 'all', 'and.', 'Of', 'for', 'delight', 'and', 'childe', 'was', 'carnal', 'childe', 'wight', 'her', 'old', 'in', 'passion', 'awake', 'might', 'whateer.', 'Deem', 'awake', 'amiss', 'was', 'heart', 'had', 'longdeserted.', 'Eremites', 'him', 'low', 'he.', 'Cared', 'fly', 'in', 'who', 'one.', 'Despair', 'the', 'weary', 'the', 'lowly', 'which', 'grief', 'say', 'harold', 'sought.', 'The', 'deeds', 'he', 'said', 'noontide', 'and', 'eremites', 'most', 'long', 'worse', 'yes.', 'Harold', 'revellers', 'partings', 'their.', 'As', 'in', 'and.', 'Of', 'harold', 'and', 'sing', 'of', 'he', 'nor.', 'The', 'his', 'soul', 'other', 'forgot', 'gathered', 'a', 'sick.</p><p>Most', 'if', 'blast', 'on', 'nor', 'cheer', 'to', 'drugged', 'to', 'there.', 'Or', 'what', 'fondly', 'woe', 'lineage', 'lurked', 'eremites', 'at', 'and', 'flash', 'felt', 'all', 'the', 'calm.', 'Consecrate', 'this', 'shades', 'thou', 'the', 'few', 'native', 'nor', 'earthly', 'who', 'he', 'though', 'knew', 'yet', 'few', 'or.', 'Name', 'would', 'had', 'the', 'relief', 'deadly', 'say', 'is', 'at.', 'Nor', 'the', 'bidding', 'uses', 'deigned', 'the', 'that', 'within', 'pangs', 'dear', 'happy', 'shamed', 'tear', 'had', 'ancient', 'them', 'take', 'from', 'before.', 'Her', 'was', 'yet', 'such', 'and', 'had', 'apart', 'fame', 'times', 'vaunted', 'though', 'but.', 'Companie', 'the', 'from', 'long', 'gathered', 'ah', 'olden', 'joyless', 'now', 'unto', 'earth', 'before.', 'Longdeserted', 'but', 'glare', 'had', 'his', 'sighed.', 'He', 'now', 'grace', 'since', 'or.', 'In', 'heart', 'mine', 'or', 'had', 'fountain', 'his', 'him', 'scarce', 'love', 'in', 'many', 'noontide', 'festal', 'known', 'fabled.', 'Say', 'were', 'rill', 'monks', 'earthly', 'birth', 'of', 'woe', 'scape', 'waste', 'or', 'not', 'was', 'at', 'would', 'venerable', 'oft', 'save', 'that.', 'Waste', 'did', 'of', 'he', 'passion', 'harolds', 'disappointed', 'his', 'bacchanals', 'harold', 'and.', 'Saw', 'at', 'these', 'adversity', 'the', 'a', 'nine', 'will', 'if', 'one', 'his.</p>']\n"
          ]
        }
      ],
      "source": [
        "def tokenizer(text):\n",
        "  return text.split()\n",
        "print(tokenizer(dt['text'][4]))  "
      ]
    },
    {
      "cell_type": "code",
      "execution_count": null,
      "metadata": {
        "id": "tNc0srcEoys-"
      },
      "outputs": [],
      "source": [
        "dt['text']=dt['text'].apply(tokenizer)"
      ]
    },
    {
      "cell_type": "code",
      "execution_count": null,
      "metadata": {
        "colab": {
          "base_uri": "https://localhost:8080/",
          "height": 206
        },
        "id": "dkpoizV-pG_7",
        "outputId": "55534716-3f41-45c1-f545-4c9f99a4af8d"
      },
      "outputs": [
        {
          "output_type": "execute_result",
          "data": {
            "text/html": [
              "\n",
              "  <div id=\"df-71a3175b-8896-47b5-b719-cd4a410b11d3\">\n",
              "    <div class=\"colab-df-container\">\n",
              "      <div>\n",
              "<style scoped>\n",
              "    .dataframe tbody tr th:only-of-type {\n",
              "        vertical-align: middle;\n",
              "    }\n",
              "\n",
              "    .dataframe tbody tr th {\n",
              "        vertical-align: top;\n",
              "    }\n",
              "\n",
              "    .dataframe thead th {\n",
              "        text-align: right;\n",
              "    }\n",
              "</style>\n",
              "<table border=\"1\" class=\"dataframe\">\n",
              "  <thead>\n",
              "    <tr style=\"text-align: right;\">\n",
              "      <th></th>\n",
              "      <th>type</th>\n",
              "      <th>text</th>\n",
              "      <th>spam</th>\n",
              "    </tr>\n",
              "  </thead>\n",
              "  <tbody>\n",
              "    <tr>\n",
              "      <th>0</th>\n",
              "      <td>Spam</td>\n",
              "      <td>[&lt;p&gt;But, could, then, once, pomp, to, nor, tha...</td>\n",
              "      <td>1</td>\n",
              "    </tr>\n",
              "    <tr>\n",
              "      <th>1</th>\n",
              "      <td>Spam</td>\n",
              "      <td>[&lt;p&gt;His, honeyed, and, land, vile, are, so, an...</td>\n",
              "      <td>1</td>\n",
              "    </tr>\n",
              "    <tr>\n",
              "      <th>2</th>\n",
              "      <td>Spam</td>\n",
              "      <td>[&lt;p&gt;Tear, womans, his, was, by, had, tis, her,...</td>\n",
              "      <td>1</td>\n",
              "    </tr>\n",
              "    <tr>\n",
              "      <th>3</th>\n",
              "      <td>Spam</td>\n",
              "      <td>[&lt;p&gt;The, that, and, land., Cell, shun, blazon,...</td>\n",
              "      <td>1</td>\n",
              "    </tr>\n",
              "    <tr>\n",
              "      <th>4</th>\n",
              "      <td>Spam</td>\n",
              "      <td>[&lt;p&gt;Sing, aught, through, partings, things, wa...</td>\n",
              "      <td>1</td>\n",
              "    </tr>\n",
              "  </tbody>\n",
              "</table>\n",
              "</div>\n",
              "      <button class=\"colab-df-convert\" onclick=\"convertToInteractive('df-71a3175b-8896-47b5-b719-cd4a410b11d3')\"\n",
              "              title=\"Convert this dataframe to an interactive table.\"\n",
              "              style=\"display:none;\">\n",
              "        \n",
              "  <svg xmlns=\"http://www.w3.org/2000/svg\" height=\"24px\"viewBox=\"0 0 24 24\"\n",
              "       width=\"24px\">\n",
              "    <path d=\"M0 0h24v24H0V0z\" fill=\"none\"/>\n",
              "    <path d=\"M18.56 5.44l.94 2.06.94-2.06 2.06-.94-2.06-.94-.94-2.06-.94 2.06-2.06.94zm-11 1L8.5 8.5l.94-2.06 2.06-.94-2.06-.94L8.5 2.5l-.94 2.06-2.06.94zm10 10l.94 2.06.94-2.06 2.06-.94-2.06-.94-.94-2.06-.94 2.06-2.06.94z\"/><path d=\"M17.41 7.96l-1.37-1.37c-.4-.4-.92-.59-1.43-.59-.52 0-1.04.2-1.43.59L10.3 9.45l-7.72 7.72c-.78.78-.78 2.05 0 2.83L4 21.41c.39.39.9.59 1.41.59.51 0 1.02-.2 1.41-.59l7.78-7.78 2.81-2.81c.8-.78.8-2.07 0-2.86zM5.41 20L4 18.59l7.72-7.72 1.47 1.35L5.41 20z\"/>\n",
              "  </svg>\n",
              "      </button>\n",
              "      \n",
              "  <style>\n",
              "    .colab-df-container {\n",
              "      display:flex;\n",
              "      flex-wrap:wrap;\n",
              "      gap: 12px;\n",
              "    }\n",
              "\n",
              "    .colab-df-convert {\n",
              "      background-color: #E8F0FE;\n",
              "      border: none;\n",
              "      border-radius: 50%;\n",
              "      cursor: pointer;\n",
              "      display: none;\n",
              "      fill: #1967D2;\n",
              "      height: 32px;\n",
              "      padding: 0 0 0 0;\n",
              "      width: 32px;\n",
              "    }\n",
              "\n",
              "    .colab-df-convert:hover {\n",
              "      background-color: #E2EBFA;\n",
              "      box-shadow: 0px 1px 2px rgba(60, 64, 67, 0.3), 0px 1px 3px 1px rgba(60, 64, 67, 0.15);\n",
              "      fill: #174EA6;\n",
              "    }\n",
              "\n",
              "    [theme=dark] .colab-df-convert {\n",
              "      background-color: #3B4455;\n",
              "      fill: #D2E3FC;\n",
              "    }\n",
              "\n",
              "    [theme=dark] .colab-df-convert:hover {\n",
              "      background-color: #434B5C;\n",
              "      box-shadow: 0px 1px 3px 1px rgba(0, 0, 0, 0.15);\n",
              "      filter: drop-shadow(0px 1px 2px rgba(0, 0, 0, 0.3));\n",
              "      fill: #FFFFFF;\n",
              "    }\n",
              "  </style>\n",
              "\n",
              "      <script>\n",
              "        const buttonEl =\n",
              "          document.querySelector('#df-71a3175b-8896-47b5-b719-cd4a410b11d3 button.colab-df-convert');\n",
              "        buttonEl.style.display =\n",
              "          google.colab.kernel.accessAllowed ? 'block' : 'none';\n",
              "\n",
              "        async function convertToInteractive(key) {\n",
              "          const element = document.querySelector('#df-71a3175b-8896-47b5-b719-cd4a410b11d3');\n",
              "          const dataTable =\n",
              "            await google.colab.kernel.invokeFunction('convertToInteractive',\n",
              "                                                     [key], {});\n",
              "          if (!dataTable) return;\n",
              "\n",
              "          const docLinkHtml = 'Like what you see? Visit the ' +\n",
              "            '<a target=\"_blank\" href=https://colab.research.google.com/notebooks/data_table.ipynb>data table notebook</a>'\n",
              "            + ' to learn more about interactive tables.';\n",
              "          element.innerHTML = '';\n",
              "          dataTable['output_type'] = 'display_data';\n",
              "          await google.colab.output.renderOutput(dataTable, element);\n",
              "          const docLink = document.createElement('div');\n",
              "          docLink.innerHTML = docLinkHtml;\n",
              "          element.appendChild(docLink);\n",
              "        }\n",
              "      </script>\n",
              "    </div>\n",
              "  </div>\n",
              "  "
            ],
            "text/plain": [
              "   type                                               text  spam\n",
              "0  Spam  [<p>But, could, then, once, pomp, to, nor, tha...     1\n",
              "1  Spam  [<p>His, honeyed, and, land, vile, are, so, an...     1\n",
              "2  Spam  [<p>Tear, womans, his, was, by, had, tis, her,...     1\n",
              "3  Spam  [<p>The, that, and, land., Cell, shun, blazon,...     1\n",
              "4  Spam  [<p>Sing, aught, through, partings, things, wa...     1"
            ]
          },
          "metadata": {},
          "execution_count": 16
        }
      ],
      "source": [
        "dt.head()"
      ]
    },
    {
      "cell_type": "code",
      "execution_count": null,
      "metadata": {
        "id": "AnSWn5JhpMA2"
      },
      "outputs": [],
      "source": [
        "from nltk.stem.snowball import SnowballStemmer\n",
        "porter=SnowballStemmer(\"english\",ignore_stopwords=False)"
      ]
    },
    {
      "cell_type": "code",
      "execution_count": null,
      "metadata": {
        "id": "ORb05p63pe2L"
      },
      "outputs": [],
      "source": [
        "def stem_it(text):\n",
        "  return [porter.stem(word) for word in text]"
      ]
    },
    {
      "cell_type": "code",
      "execution_count": null,
      "metadata": {
        "id": "BzBb5CVDpscR"
      },
      "outputs": [],
      "source": [
        "dt['text']=dt['text'].apply(stem_it)"
      ]
    },
    {
      "cell_type": "code",
      "execution_count": null,
      "metadata": {
        "colab": {
          "base_uri": "https://localhost:8080/"
        },
        "id": "Xi4C8Elmp0Qw",
        "outputId": "2be27997-5cd0-4918-9103-9ab1da591982"
      },
      "outputs": [
        {
          "output_type": "stream",
          "name": "stdout",
          "text": [
            "['<p>sing', 'aught', 'through', 'part', 'thing', 'was', 'sacr', 'knew', 'did', 'not', 'passion', 'for', 'but', 'prose.', 'sinc', 'will', 'none', 'sad', 'who', 'line', 'feel', 'to', 'given', 'but', 'my', 'to', 'made', 'seem', 'low', 'none', 'such', 'all', 'and.', 'of', 'for', 'delight', 'and', 'child', 'was', 'carnal', 'child', 'wight', 'her', 'old', 'in', 'passion', 'awak', 'might', 'whateer.', 'deem', 'awak', 'amiss', 'was', 'heart', 'had', 'longdeserted.', 'eremit', 'him', 'low', 'he.', 'care', 'fli', 'in', 'who', 'one.', 'despair', 'the', 'weari', 'the', 'lowli', 'which', 'grief', 'say', 'harold', 'sought.', 'the', 'deed', 'he', 'said', 'noontid', 'and', 'eremit', 'most', 'long', 'wor', 'yes.', 'harold', 'revel', 'part', 'their.', 'as', 'in', 'and.', 'of', 'harold', 'and', 'sing', 'of', 'he', 'nor.', 'the', 'his', 'soul', 'other', 'forgot', 'gather', 'a', 'sick.</p><p>most', 'if', 'blast', 'on', 'nor', 'cheer', 'to', 'drug', 'to', 'there.', 'or', 'what', 'fond', 'woe', 'lineag', 'lurk', 'eremit', 'at', 'and', 'flash', 'felt', 'all', 'the', 'calm.', 'consecr', 'this', 'shade', 'thou', 'the', 'few', 'nativ', 'nor', 'earth', 'who', 'he', 'though', 'knew', 'yet', 'few', 'or.', 'name', 'would', 'had', 'the', 'relief', 'dead', 'say', 'is', 'at.', 'nor', 'the', 'bid', 'use', 'deign', 'the', 'that', 'within', 'pang', 'dear', 'happi', 'shame', 'tear', 'had', 'ancient', 'them', 'take', 'from', 'before.', 'her', 'was', 'yet', 'such', 'and', 'had', 'apart', 'fame', 'time', 'vaunt', 'though', 'but.', 'compani', 'the', 'from', 'long', 'gather', 'ah', 'olden', 'joyless', 'now', 'unto', 'earth', 'before.', 'longdesert', 'but', 'glare', 'had', 'his', 'sighed.', 'he', 'now', 'grace', 'sinc', 'or.', 'in', 'heart', 'mine', 'or', 'had', 'fountain', 'his', 'him', 'scarc', 'love', 'in', 'mani', 'noontid', 'festal', 'known', 'fabled.', 'say', 'were', 'rill', 'monk', 'earth', 'birth', 'of', 'woe', 'scape', 'wast', 'or', 'not', 'was', 'at', 'would', 'vener', 'oft', 'save', 'that.', 'wast', 'did', 'of', 'he', 'passion', 'harold', 'disappoint', 'his', 'bacchan', 'harold', 'and.', 'saw', 'at', 'these', 'adver', 'the', 'a', 'nine', 'will', 'if', 'one', 'his.</p>']\n"
          ]
        }
      ],
      "source": [
        "print(stem_it(dt['text'][4]))"
      ]
    },
    {
      "cell_type": "code",
      "execution_count": null,
      "metadata": {
        "colab": {
          "base_uri": "https://localhost:8080/",
          "height": 206
        },
        "id": "xNlQ4TDDsa3q",
        "outputId": "0cbd722a-dff3-4bbd-c38a-31e94e80bd90"
      },
      "outputs": [
        {
          "output_type": "execute_result",
          "data": {
            "text/html": [
              "\n",
              "  <div id=\"df-31a2c5a1-09dc-4116-a3e8-ea0fdc477b58\">\n",
              "    <div class=\"colab-df-container\">\n",
              "      <div>\n",
              "<style scoped>\n",
              "    .dataframe tbody tr th:only-of-type {\n",
              "        vertical-align: middle;\n",
              "    }\n",
              "\n",
              "    .dataframe tbody tr th {\n",
              "        vertical-align: top;\n",
              "    }\n",
              "\n",
              "    .dataframe thead th {\n",
              "        text-align: right;\n",
              "    }\n",
              "</style>\n",
              "<table border=\"1\" class=\"dataframe\">\n",
              "  <thead>\n",
              "    <tr style=\"text-align: right;\">\n",
              "      <th></th>\n",
              "      <th>type</th>\n",
              "      <th>text</th>\n",
              "      <th>spam</th>\n",
              "    </tr>\n",
              "  </thead>\n",
              "  <tbody>\n",
              "    <tr>\n",
              "      <th>0</th>\n",
              "      <td>Spam</td>\n",
              "      <td>[&lt;p&gt;but, could, then, onc, pomp, to, nor, that...</td>\n",
              "      <td>1</td>\n",
              "    </tr>\n",
              "    <tr>\n",
              "      <th>1</th>\n",
              "      <td>Spam</td>\n",
              "      <td>[&lt;p&gt;his, honey, and, land, vile, are, so, and,...</td>\n",
              "      <td>1</td>\n",
              "    </tr>\n",
              "    <tr>\n",
              "      <th>2</th>\n",
              "      <td>Spam</td>\n",
              "      <td>[&lt;p&gt;tear, woman, his, was, by, had, tis, her, ...</td>\n",
              "      <td>1</td>\n",
              "    </tr>\n",
              "    <tr>\n",
              "      <th>3</th>\n",
              "      <td>Spam</td>\n",
              "      <td>[&lt;p&gt;the, that, and, land., cell, shun, blazon,...</td>\n",
              "      <td>1</td>\n",
              "    </tr>\n",
              "    <tr>\n",
              "      <th>4</th>\n",
              "      <td>Spam</td>\n",
              "      <td>[&lt;p&gt;sing, aught, through, part, thing, was, sa...</td>\n",
              "      <td>1</td>\n",
              "    </tr>\n",
              "  </tbody>\n",
              "</table>\n",
              "</div>\n",
              "      <button class=\"colab-df-convert\" onclick=\"convertToInteractive('df-31a2c5a1-09dc-4116-a3e8-ea0fdc477b58')\"\n",
              "              title=\"Convert this dataframe to an interactive table.\"\n",
              "              style=\"display:none;\">\n",
              "        \n",
              "  <svg xmlns=\"http://www.w3.org/2000/svg\" height=\"24px\"viewBox=\"0 0 24 24\"\n",
              "       width=\"24px\">\n",
              "    <path d=\"M0 0h24v24H0V0z\" fill=\"none\"/>\n",
              "    <path d=\"M18.56 5.44l.94 2.06.94-2.06 2.06-.94-2.06-.94-.94-2.06-.94 2.06-2.06.94zm-11 1L8.5 8.5l.94-2.06 2.06-.94-2.06-.94L8.5 2.5l-.94 2.06-2.06.94zm10 10l.94 2.06.94-2.06 2.06-.94-2.06-.94-.94-2.06-.94 2.06-2.06.94z\"/><path d=\"M17.41 7.96l-1.37-1.37c-.4-.4-.92-.59-1.43-.59-.52 0-1.04.2-1.43.59L10.3 9.45l-7.72 7.72c-.78.78-.78 2.05 0 2.83L4 21.41c.39.39.9.59 1.41.59.51 0 1.02-.2 1.41-.59l7.78-7.78 2.81-2.81c.8-.78.8-2.07 0-2.86zM5.41 20L4 18.59l7.72-7.72 1.47 1.35L5.41 20z\"/>\n",
              "  </svg>\n",
              "      </button>\n",
              "      \n",
              "  <style>\n",
              "    .colab-df-container {\n",
              "      display:flex;\n",
              "      flex-wrap:wrap;\n",
              "      gap: 12px;\n",
              "    }\n",
              "\n",
              "    .colab-df-convert {\n",
              "      background-color: #E8F0FE;\n",
              "      border: none;\n",
              "      border-radius: 50%;\n",
              "      cursor: pointer;\n",
              "      display: none;\n",
              "      fill: #1967D2;\n",
              "      height: 32px;\n",
              "      padding: 0 0 0 0;\n",
              "      width: 32px;\n",
              "    }\n",
              "\n",
              "    .colab-df-convert:hover {\n",
              "      background-color: #E2EBFA;\n",
              "      box-shadow: 0px 1px 2px rgba(60, 64, 67, 0.3), 0px 1px 3px 1px rgba(60, 64, 67, 0.15);\n",
              "      fill: #174EA6;\n",
              "    }\n",
              "\n",
              "    [theme=dark] .colab-df-convert {\n",
              "      background-color: #3B4455;\n",
              "      fill: #D2E3FC;\n",
              "    }\n",
              "\n",
              "    [theme=dark] .colab-df-convert:hover {\n",
              "      background-color: #434B5C;\n",
              "      box-shadow: 0px 1px 3px 1px rgba(0, 0, 0, 0.15);\n",
              "      filter: drop-shadow(0px 1px 2px rgba(0, 0, 0, 0.3));\n",
              "      fill: #FFFFFF;\n",
              "    }\n",
              "  </style>\n",
              "\n",
              "      <script>\n",
              "        const buttonEl =\n",
              "          document.querySelector('#df-31a2c5a1-09dc-4116-a3e8-ea0fdc477b58 button.colab-df-convert');\n",
              "        buttonEl.style.display =\n",
              "          google.colab.kernel.accessAllowed ? 'block' : 'none';\n",
              "\n",
              "        async function convertToInteractive(key) {\n",
              "          const element = document.querySelector('#df-31a2c5a1-09dc-4116-a3e8-ea0fdc477b58');\n",
              "          const dataTable =\n",
              "            await google.colab.kernel.invokeFunction('convertToInteractive',\n",
              "                                                     [key], {});\n",
              "          if (!dataTable) return;\n",
              "\n",
              "          const docLinkHtml = 'Like what you see? Visit the ' +\n",
              "            '<a target=\"_blank\" href=https://colab.research.google.com/notebooks/data_table.ipynb>data table notebook</a>'\n",
              "            + ' to learn more about interactive tables.';\n",
              "          element.innerHTML = '';\n",
              "          dataTable['output_type'] = 'display_data';\n",
              "          await google.colab.output.renderOutput(dataTable, element);\n",
              "          const docLink = document.createElement('div');\n",
              "          docLink.innerHTML = docLinkHtml;\n",
              "          element.appendChild(docLink);\n",
              "        }\n",
              "      </script>\n",
              "    </div>\n",
              "  </div>\n",
              "  "
            ],
            "text/plain": [
              "   type                                               text  spam\n",
              "0  Spam  [<p>but, could, then, onc, pomp, to, nor, that...     1\n",
              "1  Spam  [<p>his, honey, and, land, vile, are, so, and,...     1\n",
              "2  Spam  [<p>tear, woman, his, was, by, had, tis, her, ...     1\n",
              "3  Spam  [<p>the, that, and, land., cell, shun, blazon,...     1\n",
              "4  Spam  [<p>sing, aught, through, part, thing, was, sa...     1"
            ]
          },
          "metadata": {},
          "execution_count": 21
        }
      ],
      "source": [
        "dt.head()"
      ]
    },
    {
      "cell_type": "code",
      "execution_count": null,
      "metadata": {
        "id": "YS9slRykqcrK"
      },
      "outputs": [],
      "source": [
        "from nltk.stem import WordNetLemmatizer\n",
        "lemmatizer=WordNetLemmatizer()"
      ]
    },
    {
      "cell_type": "code",
      "execution_count": null,
      "metadata": {
        "id": "9CNQeLuxqxcd"
      },
      "outputs": [],
      "source": [
        "def lemmit_it(text):\n",
        "  return [lemmatizer.lemmatize(word,pos='a') for word in text]"
      ]
    },
    {
      "cell_type": "code",
      "execution_count": null,
      "metadata": {
        "colab": {
          "base_uri": "https://localhost:8080/"
        },
        "id": "R4EaRbYKrECa",
        "outputId": "718b1c4e-f4bc-411c-8de9-351460ddb80d"
      },
      "outputs": [
        {
          "output_type": "stream",
          "name": "stdout",
          "text": [
            "['<p>sing', 'aught', 'through', 'part', 'thing', 'was', 'sacr', 'knew', 'did', 'not', 'passion', 'for', 'but', 'prose.', 'sinc', 'will', 'none', 'sad', 'who', 'line', 'feel', 'to', 'given', 'but', 'my', 'to', 'made', 'seem', 'low', 'none', 'such', 'all', 'and.', 'of', 'for', 'delight', 'and', 'child', 'was', 'carnal', 'child', 'wight', 'her', 'old', 'in', 'passion', 'awak', 'might', 'whateer.', 'deem', 'awak', 'amiss', 'was', 'heart', 'had', 'longdeserted.', 'eremit', 'him', 'low', 'he.', 'care', 'fli', 'in', 'who', 'one.', 'despair', 'the', 'weari', 'the', 'lowli', 'which', 'grief', 'say', 'harold', 'sought.', 'the', 'deed', 'he', 'said', 'noontid', 'and', 'eremit', 'most', 'long', 'wors', 'yes.', 'harold', 'revel', 'part', 'their.', 'as', 'in', 'and.', 'of', 'harold', 'and', 'sing', 'of', 'he', 'nor.', 'the', 'his', 'soul', 'other', 'forgot', 'gather', 'a', 'sick.</p><p>most', 'if', 'blast', 'on', 'nor', 'cheer', 'to', 'drug', 'to', 'there.', 'or', 'what', 'fond', 'woe', 'lineag', 'lurk', 'eremit', 'at', 'and', 'flash', 'felt', 'all', 'the', 'calm.', 'consecr', 'this', 'shade', 'thou', 'the', 'few', 'nativ', 'nor', 'earth', 'who', 'he', 'though', 'knew', 'yet', 'few', 'or.', 'name', 'would', 'had', 'the', 'relief', 'dead', 'say', 'is', 'at.', 'nor', 'the', 'bid', 'use', 'deign', 'the', 'that', 'within', 'pang', 'dear', 'happi', 'shame', 'tear', 'had', 'ancient', 'them', 'take', 'from', 'before.', 'her', 'was', 'yet', 'such', 'and', 'had', 'apart', 'fame', 'time', 'vaunt', 'though', 'but.', 'compani', 'the', 'from', 'long', 'gather', 'ah', 'olden', 'joyless', 'now', 'unto', 'earth', 'before.', 'longdesert', 'but', 'glare', 'had', 'his', 'sighed.', 'he', 'now', 'grace', 'sinc', 'or.', 'in', 'heart', 'mine', 'or', 'had', 'fountain', 'his', 'him', 'scarc', 'love', 'in', 'mani', 'noontid', 'festal', 'known', 'fabled.', 'say', 'were', 'rill', 'monk', 'earth', 'birth', 'of', 'woe', 'scape', 'wast', 'or', 'not', 'was', 'at', 'would', 'vener', 'oft', 'save', 'that.', 'wast', 'did', 'of', 'he', 'passion', 'harold', 'disappoint', 'his', 'bacchan', 'harold', 'and.', 'saw', 'at', 'these', 'advers', 'the', 'a', 'nine', 'will', 'if', 'one', 'his.</p>']\n"
          ]
        }
      ],
      "source": [
        "print(lemmit_it(dt['text'][4]))"
      ]
    },
    {
      "cell_type": "code",
      "execution_count": null,
      "metadata": {
        "colab": {
          "base_uri": "https://localhost:8080/",
          "height": 206
        },
        "id": "YMWQyvNzsgnI",
        "outputId": "cbc9c771-dfce-452f-9dcd-744ef4345184"
      },
      "outputs": [
        {
          "output_type": "execute_result",
          "data": {
            "text/html": [
              "\n",
              "  <div id=\"df-03910cd2-ee9e-4012-8114-6504c6b433a2\">\n",
              "    <div class=\"colab-df-container\">\n",
              "      <div>\n",
              "<style scoped>\n",
              "    .dataframe tbody tr th:only-of-type {\n",
              "        vertical-align: middle;\n",
              "    }\n",
              "\n",
              "    .dataframe tbody tr th {\n",
              "        vertical-align: top;\n",
              "    }\n",
              "\n",
              "    .dataframe thead th {\n",
              "        text-align: right;\n",
              "    }\n",
              "</style>\n",
              "<table border=\"1\" class=\"dataframe\">\n",
              "  <thead>\n",
              "    <tr style=\"text-align: right;\">\n",
              "      <th></th>\n",
              "      <th>type</th>\n",
              "      <th>text</th>\n",
              "      <th>spam</th>\n",
              "    </tr>\n",
              "  </thead>\n",
              "  <tbody>\n",
              "    <tr>\n",
              "      <th>0</th>\n",
              "      <td>Spam</td>\n",
              "      <td>[&lt;p&gt;but, could, then, onc, pomp, to, nor, that...</td>\n",
              "      <td>1</td>\n",
              "    </tr>\n",
              "    <tr>\n",
              "      <th>1</th>\n",
              "      <td>Spam</td>\n",
              "      <td>[&lt;p&gt;his, honey, and, land, vile, are, so, and,...</td>\n",
              "      <td>1</td>\n",
              "    </tr>\n",
              "    <tr>\n",
              "      <th>2</th>\n",
              "      <td>Spam</td>\n",
              "      <td>[&lt;p&gt;tear, woman, his, was, by, had, tis, her, ...</td>\n",
              "      <td>1</td>\n",
              "    </tr>\n",
              "    <tr>\n",
              "      <th>3</th>\n",
              "      <td>Spam</td>\n",
              "      <td>[&lt;p&gt;the, that, and, land., cell, shun, blazon,...</td>\n",
              "      <td>1</td>\n",
              "    </tr>\n",
              "    <tr>\n",
              "      <th>4</th>\n",
              "      <td>Spam</td>\n",
              "      <td>[&lt;p&gt;sing, aught, through, part, thing, was, sa...</td>\n",
              "      <td>1</td>\n",
              "    </tr>\n",
              "  </tbody>\n",
              "</table>\n",
              "</div>\n",
              "      <button class=\"colab-df-convert\" onclick=\"convertToInteractive('df-03910cd2-ee9e-4012-8114-6504c6b433a2')\"\n",
              "              title=\"Convert this dataframe to an interactive table.\"\n",
              "              style=\"display:none;\">\n",
              "        \n",
              "  <svg xmlns=\"http://www.w3.org/2000/svg\" height=\"24px\"viewBox=\"0 0 24 24\"\n",
              "       width=\"24px\">\n",
              "    <path d=\"M0 0h24v24H0V0z\" fill=\"none\"/>\n",
              "    <path d=\"M18.56 5.44l.94 2.06.94-2.06 2.06-.94-2.06-.94-.94-2.06-.94 2.06-2.06.94zm-11 1L8.5 8.5l.94-2.06 2.06-.94-2.06-.94L8.5 2.5l-.94 2.06-2.06.94zm10 10l.94 2.06.94-2.06 2.06-.94-2.06-.94-.94-2.06-.94 2.06-2.06.94z\"/><path d=\"M17.41 7.96l-1.37-1.37c-.4-.4-.92-.59-1.43-.59-.52 0-1.04.2-1.43.59L10.3 9.45l-7.72 7.72c-.78.78-.78 2.05 0 2.83L4 21.41c.39.39.9.59 1.41.59.51 0 1.02-.2 1.41-.59l7.78-7.78 2.81-2.81c.8-.78.8-2.07 0-2.86zM5.41 20L4 18.59l7.72-7.72 1.47 1.35L5.41 20z\"/>\n",
              "  </svg>\n",
              "      </button>\n",
              "      \n",
              "  <style>\n",
              "    .colab-df-container {\n",
              "      display:flex;\n",
              "      flex-wrap:wrap;\n",
              "      gap: 12px;\n",
              "    }\n",
              "\n",
              "    .colab-df-convert {\n",
              "      background-color: #E8F0FE;\n",
              "      border: none;\n",
              "      border-radius: 50%;\n",
              "      cursor: pointer;\n",
              "      display: none;\n",
              "      fill: #1967D2;\n",
              "      height: 32px;\n",
              "      padding: 0 0 0 0;\n",
              "      width: 32px;\n",
              "    }\n",
              "\n",
              "    .colab-df-convert:hover {\n",
              "      background-color: #E2EBFA;\n",
              "      box-shadow: 0px 1px 2px rgba(60, 64, 67, 0.3), 0px 1px 3px 1px rgba(60, 64, 67, 0.15);\n",
              "      fill: #174EA6;\n",
              "    }\n",
              "\n",
              "    [theme=dark] .colab-df-convert {\n",
              "      background-color: #3B4455;\n",
              "      fill: #D2E3FC;\n",
              "    }\n",
              "\n",
              "    [theme=dark] .colab-df-convert:hover {\n",
              "      background-color: #434B5C;\n",
              "      box-shadow: 0px 1px 3px 1px rgba(0, 0, 0, 0.15);\n",
              "      filter: drop-shadow(0px 1px 2px rgba(0, 0, 0, 0.3));\n",
              "      fill: #FFFFFF;\n",
              "    }\n",
              "  </style>\n",
              "\n",
              "      <script>\n",
              "        const buttonEl =\n",
              "          document.querySelector('#df-03910cd2-ee9e-4012-8114-6504c6b433a2 button.colab-df-convert');\n",
              "        buttonEl.style.display =\n",
              "          google.colab.kernel.accessAllowed ? 'block' : 'none';\n",
              "\n",
              "        async function convertToInteractive(key) {\n",
              "          const element = document.querySelector('#df-03910cd2-ee9e-4012-8114-6504c6b433a2');\n",
              "          const dataTable =\n",
              "            await google.colab.kernel.invokeFunction('convertToInteractive',\n",
              "                                                     [key], {});\n",
              "          if (!dataTable) return;\n",
              "\n",
              "          const docLinkHtml = 'Like what you see? Visit the ' +\n",
              "            '<a target=\"_blank\" href=https://colab.research.google.com/notebooks/data_table.ipynb>data table notebook</a>'\n",
              "            + ' to learn more about interactive tables.';\n",
              "          element.innerHTML = '';\n",
              "          dataTable['output_type'] = 'display_data';\n",
              "          await google.colab.output.renderOutput(dataTable, element);\n",
              "          const docLink = document.createElement('div');\n",
              "          docLink.innerHTML = docLinkHtml;\n",
              "          element.appendChild(docLink);\n",
              "        }\n",
              "      </script>\n",
              "    </div>\n",
              "  </div>\n",
              "  "
            ],
            "text/plain": [
              "   type                                               text  spam\n",
              "0  Spam  [<p>but, could, then, onc, pomp, to, nor, that...     1\n",
              "1  Spam  [<p>his, honey, and, land, vile, are, so, and,...     1\n",
              "2  Spam  [<p>tear, woman, his, was, by, had, tis, her, ...     1\n",
              "3  Spam  [<p>the, that, and, land., cell, shun, blazon,...     1\n",
              "4  Spam  [<p>sing, aught, through, part, thing, was, sa...     1"
            ]
          },
          "metadata": {},
          "execution_count": 25
        }
      ],
      "source": [
        "dt.head()"
      ]
    },
    {
      "cell_type": "code",
      "execution_count": null,
      "metadata": {
        "colab": {
          "base_uri": "https://localhost:8080/"
        },
        "id": "j-rKvUEwrUxh",
        "outputId": "75b699f9-ce35-4e79-b814-397eeb4896f7"
      },
      "outputs": [
        {
          "output_type": "stream",
          "name": "stdout",
          "text": [
            "[nltk_data] Downloading package stopwords to /root/nltk_data...\n",
            "[nltk_data]   Unzipping corpora/stopwords.zip.\n"
          ]
        },
        {
          "output_type": "execute_result",
          "data": {
            "text/plain": [
              "True"
            ]
          },
          "metadata": {},
          "execution_count": 26
        }
      ],
      "source": [
        "nltk.download('stopwords')"
      ]
    },
    {
      "cell_type": "code",
      "execution_count": null,
      "metadata": {
        "id": "y0cngwl-rdC6"
      },
      "outputs": [],
      "source": [
        "from nltk.corpus import stopwords\n",
        "stop_words=stopwords.words('english')"
      ]
    },
    {
      "cell_type": "code",
      "execution_count": null,
      "metadata": {
        "id": "n1rF8eUcrqWr"
      },
      "outputs": [],
      "source": [
        "def stop_it(text):\n",
        "  review=[word for word in text if not word in stop_words]\n",
        "  return review"
      ]
    },
    {
      "cell_type": "code",
      "execution_count": null,
      "metadata": {
        "id": "wZmdyjX7r5KC"
      },
      "outputs": [],
      "source": [
        "dt['text']=dt['text'].apply(stop_it)"
      ]
    },
    {
      "cell_type": "code",
      "execution_count": null,
      "metadata": {
        "colab": {
          "base_uri": "https://localhost:8080/"
        },
        "id": "Qsqo7GZCsLZ-",
        "outputId": "2c039340-7304-4e11-df0f-f75949a50bb7"
      },
      "outputs": [
        {
          "output_type": "stream",
          "name": "stdout",
          "text": [
            "['<p>sing', 'aught', 'part', 'thing', 'sacr', 'knew', 'passion', 'prose.', 'sinc', 'none', 'sad', 'line', 'feel', 'given', 'made', 'seem', 'low', 'none', 'and.', 'delight', 'child', 'carnal', 'child', 'wight', 'old', 'passion', 'awak', 'might', 'whateer.', 'deem', 'awak', 'amiss', 'heart', 'longdeserted.', 'eremit', 'low', 'he.', 'care', 'fli', 'one.', 'despair', 'weari', 'lowli', 'grief', 'say', 'harold', 'sought.', 'deed', 'said', 'noontid', 'eremit', 'long', 'wors', 'yes.', 'harold', 'revel', 'part', 'their.', 'and.', 'harold', 'sing', 'nor.', 'soul', 'forgot', 'gather', 'sick.</p><p>most', 'blast', 'cheer', 'drug', 'there.', 'fond', 'woe', 'lineag', 'lurk', 'eremit', 'flash', 'felt', 'calm.', 'consecr', 'shade', 'thou', 'nativ', 'earth', 'though', 'knew', 'yet', 'or.', 'name', 'would', 'relief', 'dead', 'say', 'at.', 'bid', 'use', 'deign', 'within', 'pang', 'dear', 'happi', 'shame', 'tear', 'ancient', 'take', 'before.', 'yet', 'apart', 'fame', 'time', 'vaunt', 'though', 'but.', 'compani', 'long', 'gather', 'ah', 'olden', 'joyless', 'unto', 'earth', 'before.', 'longdesert', 'glare', 'sighed.', 'grace', 'sinc', 'or.', 'heart', 'mine', 'fountain', 'scarc', 'love', 'mani', 'noontid', 'festal', 'known', 'fabled.', 'say', 'rill', 'monk', 'earth', 'birth', 'woe', 'scape', 'wast', 'would', 'vener', 'oft', 'save', 'that.', 'wast', 'passion', 'harold', 'disappoint', 'bacchan', 'harold', 'and.', 'saw', 'advers', 'nine', 'one', 'his.</p>']\n"
          ]
        }
      ],
      "source": [
        "print(stop_it(dt['text'][4]))"
      ]
    },
    {
      "cell_type": "code",
      "execution_count": null,
      "metadata": {
        "colab": {
          "base_uri": "https://localhost:8080/",
          "height": 206
        },
        "id": "xAJ7qvDosT5J",
        "outputId": "ebf1ae12-7af5-4a16-fb09-5e837d0bf089"
      },
      "outputs": [
        {
          "output_type": "execute_result",
          "data": {
            "text/html": [
              "\n",
              "  <div id=\"df-54b0afd0-4dd8-4c7d-b299-bcc90ddf2ca6\">\n",
              "    <div class=\"colab-df-container\">\n",
              "      <div>\n",
              "<style scoped>\n",
              "    .dataframe tbody tr th:only-of-type {\n",
              "        vertical-align: middle;\n",
              "    }\n",
              "\n",
              "    .dataframe tbody tr th {\n",
              "        vertical-align: top;\n",
              "    }\n",
              "\n",
              "    .dataframe thead th {\n",
              "        text-align: right;\n",
              "    }\n",
              "</style>\n",
              "<table border=\"1\" class=\"dataframe\">\n",
              "  <thead>\n",
              "    <tr style=\"text-align: right;\">\n",
              "      <th></th>\n",
              "      <th>type</th>\n",
              "      <th>text</th>\n",
              "      <th>spam</th>\n",
              "    </tr>\n",
              "  </thead>\n",
              "  <tbody>\n",
              "    <tr>\n",
              "      <th>0</th>\n",
              "      <td>Spam</td>\n",
              "      <td>[&lt;p&gt;but, could, onc, pomp, glee, glorious, dei...</td>\n",
              "      <td>1</td>\n",
              "    </tr>\n",
              "    <tr>\n",
              "      <th>1</th>\n",
              "      <td>Spam</td>\n",
              "      <td>[&lt;p&gt;his, honey, land, vile, nativ, ah, ah, lik...</td>\n",
              "      <td>1</td>\n",
              "    </tr>\n",
              "    <tr>\n",
              "      <th>2</th>\n",
              "      <td>Spam</td>\n",
              "      <td>[&lt;p&gt;tear, woman, tis, eremit, present, dear, k...</td>\n",
              "      <td>1</td>\n",
              "    </tr>\n",
              "    <tr>\n",
              "      <th>3</th>\n",
              "      <td>Spam</td>\n",
              "      <td>[&lt;p&gt;the, land., cell, shun, blazon, passion, u...</td>\n",
              "      <td>1</td>\n",
              "    </tr>\n",
              "    <tr>\n",
              "      <th>4</th>\n",
              "      <td>Spam</td>\n",
              "      <td>[&lt;p&gt;sing, aught, part, thing, sacr, knew, pass...</td>\n",
              "      <td>1</td>\n",
              "    </tr>\n",
              "  </tbody>\n",
              "</table>\n",
              "</div>\n",
              "      <button class=\"colab-df-convert\" onclick=\"convertToInteractive('df-54b0afd0-4dd8-4c7d-b299-bcc90ddf2ca6')\"\n",
              "              title=\"Convert this dataframe to an interactive table.\"\n",
              "              style=\"display:none;\">\n",
              "        \n",
              "  <svg xmlns=\"http://www.w3.org/2000/svg\" height=\"24px\"viewBox=\"0 0 24 24\"\n",
              "       width=\"24px\">\n",
              "    <path d=\"M0 0h24v24H0V0z\" fill=\"none\"/>\n",
              "    <path d=\"M18.56 5.44l.94 2.06.94-2.06 2.06-.94-2.06-.94-.94-2.06-.94 2.06-2.06.94zm-11 1L8.5 8.5l.94-2.06 2.06-.94-2.06-.94L8.5 2.5l-.94 2.06-2.06.94zm10 10l.94 2.06.94-2.06 2.06-.94-2.06-.94-.94-2.06-.94 2.06-2.06.94z\"/><path d=\"M17.41 7.96l-1.37-1.37c-.4-.4-.92-.59-1.43-.59-.52 0-1.04.2-1.43.59L10.3 9.45l-7.72 7.72c-.78.78-.78 2.05 0 2.83L4 21.41c.39.39.9.59 1.41.59.51 0 1.02-.2 1.41-.59l7.78-7.78 2.81-2.81c.8-.78.8-2.07 0-2.86zM5.41 20L4 18.59l7.72-7.72 1.47 1.35L5.41 20z\"/>\n",
              "  </svg>\n",
              "      </button>\n",
              "      \n",
              "  <style>\n",
              "    .colab-df-container {\n",
              "      display:flex;\n",
              "      flex-wrap:wrap;\n",
              "      gap: 12px;\n",
              "    }\n",
              "\n",
              "    .colab-df-convert {\n",
              "      background-color: #E8F0FE;\n",
              "      border: none;\n",
              "      border-radius: 50%;\n",
              "      cursor: pointer;\n",
              "      display: none;\n",
              "      fill: #1967D2;\n",
              "      height: 32px;\n",
              "      padding: 0 0 0 0;\n",
              "      width: 32px;\n",
              "    }\n",
              "\n",
              "    .colab-df-convert:hover {\n",
              "      background-color: #E2EBFA;\n",
              "      box-shadow: 0px 1px 2px rgba(60, 64, 67, 0.3), 0px 1px 3px 1px rgba(60, 64, 67, 0.15);\n",
              "      fill: #174EA6;\n",
              "    }\n",
              "\n",
              "    [theme=dark] .colab-df-convert {\n",
              "      background-color: #3B4455;\n",
              "      fill: #D2E3FC;\n",
              "    }\n",
              "\n",
              "    [theme=dark] .colab-df-convert:hover {\n",
              "      background-color: #434B5C;\n",
              "      box-shadow: 0px 1px 3px 1px rgba(0, 0, 0, 0.15);\n",
              "      filter: drop-shadow(0px 1px 2px rgba(0, 0, 0, 0.3));\n",
              "      fill: #FFFFFF;\n",
              "    }\n",
              "  </style>\n",
              "\n",
              "      <script>\n",
              "        const buttonEl =\n",
              "          document.querySelector('#df-54b0afd0-4dd8-4c7d-b299-bcc90ddf2ca6 button.colab-df-convert');\n",
              "        buttonEl.style.display =\n",
              "          google.colab.kernel.accessAllowed ? 'block' : 'none';\n",
              "\n",
              "        async function convertToInteractive(key) {\n",
              "          const element = document.querySelector('#df-54b0afd0-4dd8-4c7d-b299-bcc90ddf2ca6');\n",
              "          const dataTable =\n",
              "            await google.colab.kernel.invokeFunction('convertToInteractive',\n",
              "                                                     [key], {});\n",
              "          if (!dataTable) return;\n",
              "\n",
              "          const docLinkHtml = 'Like what you see? Visit the ' +\n",
              "            '<a target=\"_blank\" href=https://colab.research.google.com/notebooks/data_table.ipynb>data table notebook</a>'\n",
              "            + ' to learn more about interactive tables.';\n",
              "          element.innerHTML = '';\n",
              "          dataTable['output_type'] = 'display_data';\n",
              "          await google.colab.output.renderOutput(dataTable, element);\n",
              "          const docLink = document.createElement('div');\n",
              "          docLink.innerHTML = docLinkHtml;\n",
              "          element.appendChild(docLink);\n",
              "        }\n",
              "      </script>\n",
              "    </div>\n",
              "  </div>\n",
              "  "
            ],
            "text/plain": [
              "   type                                               text  spam\n",
              "0  Spam  [<p>but, could, onc, pomp, glee, glorious, dei...     1\n",
              "1  Spam  [<p>his, honey, land, vile, nativ, ah, ah, lik...     1\n",
              "2  Spam  [<p>tear, woman, tis, eremit, present, dear, k...     1\n",
              "3  Spam  [<p>the, land., cell, shun, blazon, passion, u...     1\n",
              "4  Spam  [<p>sing, aught, part, thing, sacr, knew, pass...     1"
            ]
          },
          "metadata": {},
          "execution_count": 31
        }
      ],
      "source": [
        "dt.head()"
      ]
    },
    {
      "cell_type": "code",
      "execution_count": null,
      "metadata": {
        "colab": {
          "base_uri": "https://localhost:8080/",
          "height": 206
        },
        "id": "K9n8FL7_sk9C",
        "outputId": "9d116e06-b190-46b4-db96-fd2b22a1da9a"
      },
      "outputs": [
        {
          "output_type": "execute_result",
          "data": {
            "text/html": [
              "\n",
              "  <div id=\"df-1e9fd5ed-9cde-4f01-b409-c8e50703011d\">\n",
              "    <div class=\"colab-df-container\">\n",
              "      <div>\n",
              "<style scoped>\n",
              "    .dataframe tbody tr th:only-of-type {\n",
              "        vertical-align: middle;\n",
              "    }\n",
              "\n",
              "    .dataframe tbody tr th {\n",
              "        vertical-align: top;\n",
              "    }\n",
              "\n",
              "    .dataframe thead th {\n",
              "        text-align: right;\n",
              "    }\n",
              "</style>\n",
              "<table border=\"1\" class=\"dataframe\">\n",
              "  <thead>\n",
              "    <tr style=\"text-align: right;\">\n",
              "      <th></th>\n",
              "      <th>type</th>\n",
              "      <th>text</th>\n",
              "      <th>spam</th>\n",
              "    </tr>\n",
              "  </thead>\n",
              "  <tbody>\n",
              "    <tr>\n",
              "      <th>0</th>\n",
              "      <td>Spam</td>\n",
              "      <td>&lt;p&gt;but could onc pomp glee glorious deigned. v...</td>\n",
              "      <td>1</td>\n",
              "    </tr>\n",
              "    <tr>\n",
              "      <th>1</th>\n",
              "      <td>Spam</td>\n",
              "      <td>&lt;p&gt;his honey land vile nativ ah ah like flash ...</td>\n",
              "      <td>1</td>\n",
              "    </tr>\n",
              "    <tr>\n",
              "      <th>2</th>\n",
              "      <td>Spam</td>\n",
              "      <td>&lt;p&gt;tear woman tis eremit present dear known no...</td>\n",
              "      <td>1</td>\n",
              "    </tr>\n",
              "    <tr>\n",
              "      <th>3</th>\n",
              "      <td>Spam</td>\n",
              "      <td>&lt;p&gt;the land. cell shun blazon passion uncouth ...</td>\n",
              "      <td>1</td>\n",
              "    </tr>\n",
              "    <tr>\n",
              "      <th>4</th>\n",
              "      <td>Spam</td>\n",
              "      <td>&lt;p&gt;sing aught part thing sacr knew passion pro...</td>\n",
              "      <td>1</td>\n",
              "    </tr>\n",
              "  </tbody>\n",
              "</table>\n",
              "</div>\n",
              "      <button class=\"colab-df-convert\" onclick=\"convertToInteractive('df-1e9fd5ed-9cde-4f01-b409-c8e50703011d')\"\n",
              "              title=\"Convert this dataframe to an interactive table.\"\n",
              "              style=\"display:none;\">\n",
              "        \n",
              "  <svg xmlns=\"http://www.w3.org/2000/svg\" height=\"24px\"viewBox=\"0 0 24 24\"\n",
              "       width=\"24px\">\n",
              "    <path d=\"M0 0h24v24H0V0z\" fill=\"none\"/>\n",
              "    <path d=\"M18.56 5.44l.94 2.06.94-2.06 2.06-.94-2.06-.94-.94-2.06-.94 2.06-2.06.94zm-11 1L8.5 8.5l.94-2.06 2.06-.94-2.06-.94L8.5 2.5l-.94 2.06-2.06.94zm10 10l.94 2.06.94-2.06 2.06-.94-2.06-.94-.94-2.06-.94 2.06-2.06.94z\"/><path d=\"M17.41 7.96l-1.37-1.37c-.4-.4-.92-.59-1.43-.59-.52 0-1.04.2-1.43.59L10.3 9.45l-7.72 7.72c-.78.78-.78 2.05 0 2.83L4 21.41c.39.39.9.59 1.41.59.51 0 1.02-.2 1.41-.59l7.78-7.78 2.81-2.81c.8-.78.8-2.07 0-2.86zM5.41 20L4 18.59l7.72-7.72 1.47 1.35L5.41 20z\"/>\n",
              "  </svg>\n",
              "      </button>\n",
              "      \n",
              "  <style>\n",
              "    .colab-df-container {\n",
              "      display:flex;\n",
              "      flex-wrap:wrap;\n",
              "      gap: 12px;\n",
              "    }\n",
              "\n",
              "    .colab-df-convert {\n",
              "      background-color: #E8F0FE;\n",
              "      border: none;\n",
              "      border-radius: 50%;\n",
              "      cursor: pointer;\n",
              "      display: none;\n",
              "      fill: #1967D2;\n",
              "      height: 32px;\n",
              "      padding: 0 0 0 0;\n",
              "      width: 32px;\n",
              "    }\n",
              "\n",
              "    .colab-df-convert:hover {\n",
              "      background-color: #E2EBFA;\n",
              "      box-shadow: 0px 1px 2px rgba(60, 64, 67, 0.3), 0px 1px 3px 1px rgba(60, 64, 67, 0.15);\n",
              "      fill: #174EA6;\n",
              "    }\n",
              "\n",
              "    [theme=dark] .colab-df-convert {\n",
              "      background-color: #3B4455;\n",
              "      fill: #D2E3FC;\n",
              "    }\n",
              "\n",
              "    [theme=dark] .colab-df-convert:hover {\n",
              "      background-color: #434B5C;\n",
              "      box-shadow: 0px 1px 3px 1px rgba(0, 0, 0, 0.15);\n",
              "      filter: drop-shadow(0px 1px 2px rgba(0, 0, 0, 0.3));\n",
              "      fill: #FFFFFF;\n",
              "    }\n",
              "  </style>\n",
              "\n",
              "      <script>\n",
              "        const buttonEl =\n",
              "          document.querySelector('#df-1e9fd5ed-9cde-4f01-b409-c8e50703011d button.colab-df-convert');\n",
              "        buttonEl.style.display =\n",
              "          google.colab.kernel.accessAllowed ? 'block' : 'none';\n",
              "\n",
              "        async function convertToInteractive(key) {\n",
              "          const element = document.querySelector('#df-1e9fd5ed-9cde-4f01-b409-c8e50703011d');\n",
              "          const dataTable =\n",
              "            await google.colab.kernel.invokeFunction('convertToInteractive',\n",
              "                                                     [key], {});\n",
              "          if (!dataTable) return;\n",
              "\n",
              "          const docLinkHtml = 'Like what you see? Visit the ' +\n",
              "            '<a target=\"_blank\" href=https://colab.research.google.com/notebooks/data_table.ipynb>data table notebook</a>'\n",
              "            + ' to learn more about interactive tables.';\n",
              "          element.innerHTML = '';\n",
              "          dataTable['output_type'] = 'display_data';\n",
              "          await google.colab.output.renderOutput(dataTable, element);\n",
              "          const docLink = document.createElement('div');\n",
              "          docLink.innerHTML = docLinkHtml;\n",
              "          element.appendChild(docLink);\n",
              "        }\n",
              "      </script>\n",
              "    </div>\n",
              "  </div>\n",
              "  "
            ],
            "text/plain": [
              "   type                                               text  spam\n",
              "0  Spam  <p>but could onc pomp glee glorious deigned. v...     1\n",
              "1  Spam  <p>his honey land vile nativ ah ah like flash ...     1\n",
              "2  Spam  <p>tear woman tis eremit present dear known no...     1\n",
              "3  Spam  <p>the land. cell shun blazon passion uncouth ...     1\n",
              "4  Spam  <p>sing aught part thing sacr knew passion pro...     1"
            ]
          },
          "metadata": {},
          "execution_count": 32
        }
      ],
      "source": [
        "dt['text']=dt['text'].apply(' '.join)\n",
        "dt.head()"
      ]
    },
    {
      "cell_type": "code",
      "execution_count": null,
      "metadata": {
        "id": "lExdONTDswT6"
      },
      "outputs": [],
      "source": [
        "from sklearn.feature_extraction.text import TfidfVectorizer\n",
        "tfidf=TfidfVectorizer()\n",
        "y=dt.spam.values\n",
        "x=tfidf.fit_transform(dt['text'])"
      ]
    },
    {
      "cell_type": "code",
      "execution_count": null,
      "metadata": {
        "id": "CF0cBJE1vL-h"
      },
      "outputs": [],
      "source": [
        "from sklearn.model_selection import train_test_split\n",
        "x_train,x_test,y_train,y_test=train_test_split(x,y,random_state=1,test_size=0.3,shuffle=False)"
      ]
    },
    {
      "cell_type": "code",
      "execution_count": null,
      "metadata": {
        "id": "hN6aGpEUzYjK"
      },
      "outputs": [],
      "source": [
        "#create and train Naive Bayes Classifier\n",
        "from sklearn.naive_bayes import MultinomialNB\n",
        "classifier=MultinomialNB().fit(x_train,y_train)"
      ]
    },
    {
      "cell_type": "code",
      "execution_count": null,
      "metadata": {
        "colab": {
          "base_uri": "https://localhost:8080/"
        },
        "id": "zUQcV-z3z1UC",
        "outputId": "fa4de3a9-bb4b-4f65-c957-fc8e03726aef"
      },
      "outputs": [
        {
          "output_type": "stream",
          "name": "stdout",
          "text": [
            "[1 1 1 ... 0 0 0]\n",
            "[1 1 1 ... 0 0 0]\n"
          ]
        }
      ],
      "source": [
        "#print the predictions\n",
        "print(classifier.predict(x_train))\n",
        "#print the actual values\n",
        "print(y_train)"
      ]
    },
    {
      "cell_type": "code",
      "execution_count": null,
      "metadata": {
        "colab": {
          "base_uri": "https://localhost:8080/"
        },
        "id": "Hr0xlNDU1QOf",
        "outputId": "70ce207d-56fc-4845-8ce4-e5b3fa19efe5"
      },
      "outputs": [
        {
          "output_type": "stream",
          "name": "stdout",
          "text": [
            "              precision    recall  f1-score   support\n",
            "\n",
            "           0       1.00      1.00      1.00       470\n",
            "           1       1.00      1.00      1.00      1000\n",
            "\n",
            "    accuracy                           1.00      1470\n",
            "   macro avg       1.00      1.00      1.00      1470\n",
            "weighted avg       1.00      1.00      1.00      1470\n",
            "\n",
            "\n",
            "Confusion matrix:\n",
            " [[ 470    0]\n",
            " [   0 1000]]\n",
            "Accuracy:\n",
            " 100.0\n"
          ]
        }
      ],
      "source": [
        "#Now let’s see how well our model performed by evaluating the Naive Bayes classifier and the report, confusion matrix & accuracy score.\n",
        "# Evaluating the model on the training data set\n",
        "from sklearn.metrics import classification_report,confusion_matrix,accuracy_score\n",
        "pred=classifier.predict(x_train)\n",
        "print(classification_report(y_train,pred))\n",
        "print()\n",
        "print(\"Confusion matrix:\\n\",confusion_matrix(y_train,pred))\n",
        "print(\"Accuracy:\\n\",accuracy_score(y_train,pred)*100)"
      ]
    },
    {
      "cell_type": "code",
      "execution_count": null,
      "metadata": {
        "id": "PmOc_bq_2QnB"
      },
      "outputs": [],
      "source": [
        "#It looks like the model used is 90.21% accurate. \n",
        "#Let’s test the model on the test data set (xtest &  ytest) by printing \n",
        "#the predicted value, and the actual value to see if the model can accurately \n",
        "#classify the email text."
      ]
    },
    {
      "cell_type": "code",
      "execution_count": null,
      "metadata": {
        "colab": {
          "base_uri": "https://localhost:8080/"
        },
        "id": "stNiObkD2aWX",
        "outputId": "f4facef6-352f-4209-b337-8b13bda0653c"
      },
      "outputs": [
        {
          "output_type": "stream",
          "name": "stdout",
          "text": [
            "[0 0 0 0 0 0 0 0 0 0 0 0 0 0 0 0 0 0 0 0 0 0 0 0 0 0 0 0 0 0 0 0 0 0 0 0 0\n",
            " 0 0 0 0 0 0 0 0 0 0 0 0 0 0 0 0 0 0 0 0 0 0 0 0 0 0 0 0 0 0 0 0 0 0 0 0 0\n",
            " 0 0 0 0 0 0 0 0 0 0 0 0 0 0 0 0 0 0 0 0 0 0 0 0 0 0 0 0 0 0 0 0 0 0 0 0 0\n",
            " 0 0 0 0 0 0 0 0 0 0 0 0 0 0 0 0 0 0 0 0 0 0 0 0 0 0 0 0 0 0 0 0 0 0 0 0 0\n",
            " 0 0 0 0 0 0 0 0 0 0 0 0 0 0 0 0 0 0 0 0 0 0 0 0 0 0 0 0 0 0 0 0 0 0 0 0 0\n",
            " 0 0 0 0 0 0 0 0 0 0 0 0 0 0 0 0 0 0 0 0 0 0 0 0 0 0 0 0 0 0 0 0 0 0 0 0 0\n",
            " 0 0 0 0 0 0 0 0 0 0 0 0 0 0 0 0 0 0 0 0 0 0 0 0 0 0 0 0 0 0 0 0 0 0 0 0 0\n",
            " 0 0 0 0 0 0 0 0 0 0 0 0 0 0 0 0 0 0 0 0 0 0 0 0 0 0 0 0 0 0 0 0 0 0 0 0 0\n",
            " 0 0 0 0 0 0 0 0 0 0 0 0 0 0 0 0 0 0 0 0 0 0 0 0 0 0 0 0 0 0 0 0 0 0 0 0 0\n",
            " 0 0 0 0 0 0 0 0 0 0 0 0 0 0 0 0 0 0 0 0 0 0 0 0 0 0 0 0 0 0 0 0 0 0 0 0 0\n",
            " 0 0 0 0 0 0 0 0 0 0 0 0 0 0 0 0 0 0 0 0 0 0 0 0 0 0 0 0 0 0 0 0 0 0 0 0 0\n",
            " 0 0 0 0 0 0 0 0 0 0 0 0 0 0 0 0 0 0 0 0 0 0 0 0 0 0 0 0 0 0 0 0 0 0 0 0 0\n",
            " 0 0 0 0 0 0 0 0 0 0 0 0 0 0 0 0 0 0 0 0 0 0 0 0 0 0 0 0 0 0 0 0 0 0 0 0 0\n",
            " 0 0 0 0 0 0 0 0 0 0 0 0 0 0 0 0 0 0 0 0 0 0 0 0 0 0 0 0 0 0 0 0 0 0 0 0 0\n",
            " 0 0 0 0 0 0 0 0 0 0 0 0 0 0 0 0 1 0 0 0 1 1 0 0 0 0 1 0 1 1 0 0 0 1 1 1 0\n",
            " 1 0 0 1 0 1 0 0 1 0 0 1 0 0 1 0 1 1 1 0 1 1 0 1 1 1 1 1 0 0 1 1 0 0 0 0 0\n",
            " 0 1 1 1 1 1 0 0 0 1 0 0 1 0 1 1 0 0 1 1 1 0 0 0 0 0 0 0 1 0 0 0 1 0 1 0 1\n",
            " 0]\n",
            "[0 0 0 0 0 0 0 0 0 0 0 0 0 0 0 0 0 0 0 0 0 0 0 0 0 0 0 0 0 0 0 0 0 0 0 0 0\n",
            " 0 0 0 0 0 0 0 0 0 0 0 0 0 0 0 0 0 0 0 0 0 0 0 0 0 0 0 0 0 0 0 0 0 0 0 0 0\n",
            " 0 0 0 0 0 0 0 0 0 0 0 0 0 0 0 0 0 0 0 0 0 0 0 0 0 0 0 0 0 0 0 0 0 0 0 0 0\n",
            " 0 0 0 0 0 0 0 0 0 0 0 0 0 0 0 0 0 0 0 0 0 0 0 0 0 0 0 0 0 0 0 0 0 0 0 0 0\n",
            " 0 0 0 0 0 0 0 0 0 0 0 0 0 0 0 0 0 0 0 0 0 0 0 0 0 0 0 0 0 0 0 0 0 0 0 0 0\n",
            " 0 0 0 0 0 0 0 0 0 0 0 0 0 0 0 0 0 0 0 0 0 0 0 0 0 0 0 0 0 0 0 0 0 0 0 0 0\n",
            " 0 0 0 0 0 0 0 0 0 0 0 0 0 0 0 0 0 0 0 0 0 0 0 0 0 0 0 0 0 0 0 0 0 0 0 0 0\n",
            " 0 0 0 0 0 0 0 0 0 0 0 0 0 0 0 0 0 0 0 0 0 0 0 0 0 0 0 0 0 0 0 0 0 0 0 0 0\n",
            " 0 0 0 0 0 0 0 0 0 0 0 0 0 0 0 0 0 0 0 0 0 0 0 0 0 0 0 0 0 0 0 0 0 0 0 0 0\n",
            " 0 0 0 0 0 0 0 0 0 0 0 0 0 0 0 0 0 0 0 0 0 0 0 0 0 0 0 0 0 0 0 0 0 0 0 0 0\n",
            " 0 0 0 0 0 0 0 0 0 0 0 0 0 0 0 0 0 0 0 0 0 0 0 0 0 0 0 0 0 0 0 0 0 0 0 0 0\n",
            " 0 0 0 0 0 0 0 0 0 0 0 0 0 0 0 0 0 0 0 0 0 0 0 0 0 0 0 0 0 0 0 0 0 0 0 0 0\n",
            " 0 0 0 0 0 0 0 0 0 0 0 0 0 0 0 0 0 0 0 0 0 0 0 0 0 0 0 0 0 0 0 0 0 0 0 0 0\n",
            " 0 0 0 0 0 0 0 0 0 0 0 0 0 0 0 0 0 0 0 0 0 0 0 0 0 0 0 0 0 0 0 0 0 0 0 0 0\n",
            " 0 0 0 0 0 0 0 0 0 0 0 0 0 0 0 0 1 0 0 0 1 1 0 0 0 0 1 0 1 1 0 0 0 1 1 1 0\n",
            " 1 0 0 1 0 1 0 0 1 0 0 1 0 0 1 0 1 1 1 0 1 1 0 1 1 1 1 1 0 0 1 1 0 0 0 0 0\n",
            " 0 1 1 1 1 1 0 0 0 1 0 0 1 0 1 1 0 0 1 1 1 0 0 0 0 0 0 0 1 0 0 0 1 0 1 0 1\n",
            " 0]\n"
          ]
        }
      ],
      "source": [
        "#print the predictions\n",
        "print(classifier.predict(x_test))\n",
        "#print the actual values\n",
        "print(y_test)"
      ]
    },
    {
      "cell_type": "code",
      "execution_count": null,
      "metadata": {
        "colab": {
          "base_uri": "https://localhost:8080/"
        },
        "id": "zrnXVM812qza",
        "outputId": "7b7f068c-4818-4a59-81c5-320407bded7b"
      },
      "outputs": [
        {
          "output_type": "stream",
          "name": "stdout",
          "text": [
            "              precision    recall  f1-score   support\n",
            "\n",
            "           0       1.00      1.00      1.00       587\n",
            "           1       1.00      1.00      1.00        43\n",
            "\n",
            "    accuracy                           1.00       630\n",
            "   macro avg       1.00      1.00      1.00       630\n",
            "weighted avg       1.00      1.00      1.00       630\n",
            "\n",
            "\n",
            "Confusion Matrix: \n",
            " [[587   0]\n",
            " [  0  43]]\n",
            "Accuracy: \n",
            " 100.0\n"
          ]
        }
      ],
      "source": [
        "# Evaluating the model on the training data set\n",
        "from sklearn.metrics import classification_report, confusion_matrix, accuracy_score\n",
        "pred = classifier.predict(x_test)\n",
        "print(classification_report(y_test, pred))\n",
        "print()\n",
        "print(\"Confusion Matrix: \\n\", confusion_matrix(y_test, pred))\n",
        "print(\"Accuracy: \\n\", accuracy_score(y_test, pred)*100)"
      ]
    },
    {
      "cell_type": "code",
      "execution_count": null,
      "metadata": {
        "colab": {
          "base_uri": "https://localhost:8080/"
        },
        "id": "lhr4j49A3q7C",
        "outputId": "0fb205bc-8c51-405b-b8f9-f48217b9b00e"
      },
      "outputs": [
        {
          "output_type": "stream",
          "name": "stdout",
          "text": [
            "              precision    recall  f1-score   support\n",
            "\n",
            "           0       1.00      1.00      1.00       587\n",
            "           1       1.00      1.00      1.00        43\n",
            "\n",
            "    accuracy                           1.00       630\n",
            "   macro avg       1.00      1.00      1.00       630\n",
            "weighted avg       1.00      1.00      1.00       630\n",
            "\n",
            "\n",
            "Confusion Matrix: \n",
            " [[587   0]\n",
            " [  0  43]]\n",
            "Accuracy: \n",
            " 100.0\n"
          ]
        }
      ],
      "source": [
        "#evaluating test data using logistic regession\n",
        "from sklearn.linear_model import LogisticRegression\n",
        "clf = LogisticRegression()\n",
        "clf.fit(x_train,y_train)\n",
        "y_pred = clf.predict(x_test)\n",
        "print(classification_report(y_test,y_pred))\n",
        "print()\n",
        "print(\"Confusion Matrix: \\n\", confusion_matrix(y_test, y_pred))\n",
        "print(\"Accuracy: \\n\", accuracy_score(y_test, y_pred)*100)\n"
      ]
    },
    {
      "cell_type": "code",
      "execution_count": null,
      "metadata": {
        "colab": {
          "base_uri": "https://localhost:8080/"
        },
        "id": "2bZNUFV9-ULn",
        "outputId": "73d7626b-19b6-4632-fe90-a0ea65a7008f"
      },
      "outputs": [
        {
          "output_type": "stream",
          "name": "stdout",
          "text": [
            "[0 0 0 0 0 0 0 0 0 0 0 0 0 0 0 0 0 0 0 0 0 0 0 0 0 0 0 0 0 0 0 0 0 0 0 0 0\n",
            " 0 0 0 0 0 0 0 0 0 0 0 0 0 0 0 0 0 0 0 0 0 0 0 0 0 0 0 0 0 0 0 0 0 0 0 0 0\n",
            " 0 0 0 0 0 0 0 0 0 0 0 0 0 0 0 0 0 0 0 0 0 0 0 0 0 0 0 0 0 0 0 0 0 0 0 0 0\n",
            " 0 0 0 0 0 0 0 0 0 0 0 0 0 0 0 0 0 0 0 0 0 0 0 0 0 0 0 0 0 0 0 0 0 0 0 0 0\n",
            " 0 0 0 0 0 0 0 0 0 0 0 0 0 0 0 0 0 0 0 0 0 0 0 0 0 0 0 0 0 0 0 0 0 0 0 0 0\n",
            " 0 0 0 0 0 0 0 0 0 0 0 0 0 0 0 0 0 0 0 0 0 0 0 0 0 0 0 0 0 0 0 0 0 0 0 0 0\n",
            " 0 0 0 0 0 0 0 0 0 0 0 0 0 0 0 0 0 0 0 0 0 0 0 0 0 0 0 0 0 0 0 0 0 0 0 0 0\n",
            " 0 0 0 0 0 0 0 0 0 0 0 0 0 0 0 0 0 0 0 0 0 0 0 0 0 0 0 0 0 0 0 0 0 0 0 0 0\n",
            " 0 0 0 0 0 0 0 0 0 0 0 0 0 0 0 0 0 0 0 0 0 0 0 0 0 0 0 0 1 0 0 0 1 1 0 0 0\n",
            " 0 1 0 1 1 0 0 0 1 1 1 0 1 0 0 1 0 1 0 0 1 0 0 1 0 0 1 0 1 1 1 0 1 1 0 1 1\n",
            " 1 1 1 0 0 1 1 0 0 0 0 0 0 1 1 1 1 1 0 0 0 1 0 0 1 0 1 1 0 0 1 1 1 0 0 0 0\n",
            " 0 0 0 1 0 0 0 1 0 1 0 1 0]\n",
            "[0 0 0 0 0 0 0 0 0 0 0 0 0 0 0 0 0 0 0 0 0 0 0 0 0 0 0 0 0 0 0 0 0 0 0 0 0\n",
            " 0 0 0 0 0 0 0 0 0 0 0 0 0 0 0 0 0 0 0 0 0 0 0 0 0 0 0 0 0 0 0 0 0 0 0 0 0\n",
            " 0 0 0 0 0 0 0 0 0 0 0 0 0 0 0 0 0 0 0 0 0 0 0 0 0 0 0 0 0 0 0 0 0 0 0 0 0\n",
            " 0 0 0 0 0 0 0 0 0 0 0 0 0 0 0 0 0 0 0 0 0 0 0 0 0 0 0 0 0 0 0 0 0 0 0 0 0\n",
            " 0 0 0 0 0 0 0 0 0 0 0 0 0 0 0 0 0 0 0 0 0 0 0 0 0 0 0 0 0 0 0 0 0 0 0 0 0\n",
            " 0 0 0 0 0 0 0 0 0 0 0 0 0 0 0 0 0 0 0 0 0 0 0 0 0 0 0 0 0 0 0 0 0 0 0 0 0\n",
            " 0 0 0 0 0 0 0 0 0 0 0 0 0 0 0 0 0 0 0 0 0 0 0 0 0 0 0 0 0 0 0 0 0 0 0 0 0\n",
            " 0 0 0 0 0 0 0 0 0 0 0 0 0 0 0 0 0 0 0 0 0 0 0 0 0 0 0 0 0 0 0 0 0 0 0 0 0\n",
            " 0 0 0 0 0 0 0 0 0 0 0 0 0 0 0 0 0 0 0 0 0 0 0 0 0 0 0 0 1 0 0 0 1 1 0 0 0\n",
            " 0 1 0 1 1 0 0 0 1 1 1 0 1 0 0 1 0 1 0 0 1 0 0 1 0 0 1 0 1 1 1 0 1 1 0 1 1\n",
            " 1 1 1 0 0 1 1 0 0 0 0 0 0 1 1 1 1 1 0 0 0 1 0 0 1 0 1 1 0 0 1 1 1 0 0 0 0\n",
            " 0 0 0 1 0 0 0 1 0 1 0 1 0]\n"
          ]
        }
      ],
      "source": [
        "#print the predictions\n",
        "print(clf.predict(x_test))\n",
        "#print the actual values\n",
        "print(y_test)"
      ]
    },
    {
      "cell_type": "markdown",
      "metadata": {
        "id": "zgxi7TLh2BfJ"
      },
      "source": []
    }
  ],
  "metadata": {
    "colab": {
      "provenance": [],
      "include_colab_link": true
    },
    "kernelspec": {
      "display_name": "Python 3",
      "name": "python3"
    },
    "language_info": {
      "name": "python"
    }
  },
  "nbformat": 4,
  "nbformat_minor": 0
}